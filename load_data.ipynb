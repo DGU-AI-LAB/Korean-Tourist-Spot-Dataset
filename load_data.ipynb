{
 "cells": [
  {
   "cell_type": "markdown",
   "metadata": {},
   "source": [
    "# KTS(Korean Tourist Spot) Dataset Load"
   ]
  },
  {
   "cell_type": "markdown",
   "metadata": {},
   "source": [
    "### Class Definition"
   ]
  },
  {
   "cell_type": "code",
   "execution_count": 1,
   "metadata": {},
   "outputs": [],
   "source": [
    "#image, label, likes, text, hashtag\n",
    "category = {\"nature-scene\": [\"beach\", \"cave\", \"island\", \"lake\", \"mountain\"],\n",
    "            \"person-made\": [\"amusement park\", \"palace\", \"park\", \"restaurant\", \"tower\"]}"
   ]
  },
  {
   "cell_type": "markdown",
   "metadata": {},
   "source": [
    "### Load Total Raw Heterogeneous Data(text - json & images - jpg)"
   ]
  },
  {
   "cell_type": "code",
   "execution_count": 2,
   "metadata": {},
   "outputs": [],
   "source": [
    "from PIL import Image\n",
    "import numpy as np\n",
    "import json\n",
    "import os\n",
    "\n",
    "def load_data(mode):\n",
    "    if mode != \"train\" and mode != \"valid\" and mode != \"test\" and mode != \"total\":\n",
    "        return None\n",
    "    \n",
    "    else:        \n",
    "        data = np.array([]) # initialization\n",
    "        \n",
    "        for key, val in category.items():\n",
    "            for v in val:\n",
    "                json_dir = os.path.join(\"kts/\" + mode, key, v, v + \".json\")\n",
    "                image_folder_dir = os.path.join(\"kts/\" + mode, key, v, \"images\")\n",
    "\n",
    "                with open(json_dir, encoding=\"UTF-16\") as f:\n",
    "                    js = json.load(f)\n",
    "                f.close()\n",
    "\n",
    "                for j in js:\n",
    "                    image_file_dir = os.path.join(image_folder_dir, j[\"img_name\"] + \".jpg\")\n",
    "                    image = Image.open(image_file_dir)\n",
    "                    j[\"image\"]   = image   \n",
    "                    \n",
    "                js = np.asarray(js)\n",
    "                data = np.append(data, js)\n",
    "        return data"
   ]
  },
  {
   "cell_type": "code",
   "execution_count": 3,
   "metadata": {},
   "outputs": [
    {
     "name": "stdout",
     "output_type": "stream",
     "text": [
      "nature-scene\n",
      "beach\n",
      "cave\n",
      "island\n",
      "lake\n",
      "mountain\n",
      "person-made\n",
      "amusement park\n",
      "palace\n",
      "park\n",
      "restaurant\n",
      "tower\n"
     ]
    }
   ],
   "source": [
    "data = load_data(\"train\")"
   ]
  },
  {
   "cell_type": "code",
   "execution_count": 4,
   "metadata": {},
   "outputs": [
    {
     "name": "stdout",
     "output_type": "stream",
     "text": [
      "1000\n"
     ]
    }
   ],
   "source": [
    "print(len(data))"
   ]
  }
 ],
 "metadata": {
  "kernelspec": {
   "display_name": "Python 3",
   "language": "python",
   "name": "python3"
  },
  "language_info": {
   "codemirror_mode": {
    "name": "ipython",
    "version": 3
   },
   "file_extension": ".py",
   "mimetype": "text/x-python",
   "name": "python",
   "nbconvert_exporter": "python",
   "pygments_lexer": "ipython3",
   "version": "3.6.4"
  }
 },
 "nbformat": 4,
 "nbformat_minor": 2
}
