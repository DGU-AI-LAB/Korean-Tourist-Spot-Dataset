{
 "cells": [
  {
   "cell_type": "code",
   "execution_count": null,
   "metadata": {},
   "outputs": [],
   "source": [
    "import os\n",
    "import json\n",
    "import time"
   ]
  },
  {
   "cell_type": "code",
   "execution_count": null,
   "metadata": {},
   "outputs": [],
   "source": [
    "#image, label, likes, text, hashtag\n",
    "category = {\"nature-scene\": [\"beach\", \"cave\", \"island\", \"lake\", \"mountain\"],\n",
    "            \"person-made\": [\"amusement park\", \"palace\", \"park\", \"restaurant\", \"tower\"]}"
   ]
  },
  {
   "cell_type": "code",
   "execution_count": null,
   "metadata": {},
   "outputs": [],
   "source": [
    "train_start = 1\n",
    "train_end = 701"
   ]
  },
  {
   "cell_type": "code",
   "execution_count": null,
   "metadata": {},
   "outputs": [],
   "source": [
    "valid_start = 701\n",
    "valid_end = 801"
   ]
  },
  {
   "cell_type": "code",
   "execution_count": null,
   "metadata": {},
   "outputs": [],
   "source": [
    "test_start = 801\n",
    "test_end = 1001"
   ]
  },
  {
   "cell_type": "code",
   "execution_count": null,
   "metadata": {},
   "outputs": [],
   "source": [
    "def delete_data(start, end):\n",
    "    for key, val in category.items():\n",
    "        for v in val:\n",
    "            print(v)\n",
    "            print(\" read data \")     \n",
    "\n",
    "            json_dir = key + \"/\" + v + \"/\" + v + \".json\"\n",
    "            img_dir = key + \"/\" + v + \"/images/\"\n",
    "\n",
    "            with open(json_dir, encoding='UTF-16') as f:\n",
    "                data = json.load(f)\n",
    "            f.close()        \n",
    "\n",
    "            print(\" delete json data\")\n",
    "            data = data[start-1 : end-1]\n",
    "\n",
    "            print(\" delete image file\")\n",
    "\n",
    "            for cnt in range(1, 1001):\n",
    "                if cnt < start or end <= cnt: \n",
    "                    os.remove(img_dir + str(cnt) + \".jpg\")\n",
    "\n",
    "            print(\" save .json file\")\n",
    "            with open(json_dir, mode='w', encoding='UTF-16', errors='ignore') as f:\n",
    "                feed = json.dumps(data, ensure_ascii=False, indent=2)\n",
    "                f.write(feed)"
   ]
  },
  {
   "cell_type": "code",
   "execution_count": null,
   "metadata": {},
   "outputs": [],
   "source": [
    "mode = input()\n",
    "start = 0\n",
    "end = 0\n",
    "\n",
    "if mode == \"train\":\n",
    "    delete_data(train_start, train_end)\n",
    "elif mode == \"valid\":\n",
    "    delete_data(valid_start, valid_end)\n",
    "elif mode == \"test\":\n",
    "    delete_data(test_start, test_end)"
   ]
  }
 ],
 "metadata": {
  "kernelspec": {
   "display_name": "Python 3",
   "language": "python",
   "name": "python3"
  },
  "language_info": {
   "codemirror_mode": {
    "name": "ipython",
    "version": 3
   },
   "file_extension": ".py",
   "mimetype": "text/x-python",
   "name": "python",
   "nbconvert_exporter": "python",
   "pygments_lexer": "ipython3",
   "version": "3.7.3"
  }
 },
 "nbformat": 4,
 "nbformat_minor": 2
}
